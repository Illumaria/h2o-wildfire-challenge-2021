{
 "cells": [
  {
   "cell_type": "markdown",
   "id": "fa23d219",
   "metadata": {},
   "source": [
    "## Install libraries"
   ]
  },
  {
   "cell_type": "code",
   "execution_count": null,
   "id": "250c1834",
   "metadata": {},
   "outputs": [],
   "source": [
    "%pip install -q gdown"
   ]
  },
  {
   "cell_type": "markdown",
   "id": "ae96818c",
   "metadata": {},
   "source": [
    "Also, install libraries listed in `requirements.txt` in the app root folder."
   ]
  },
  {
   "cell_type": "markdown",
   "id": "b5684217",
   "metadata": {},
   "source": [
    "## Import libraries"
   ]
  },
  {
   "cell_type": "code",
   "execution_count": null,
   "id": "852b5699-8154-43a1-acd3-3d022d9fe77e",
   "metadata": {},
   "outputs": [],
   "source": [
    "from datetime import timedelta\n",
    "from pathlib import Path\n",
    "\n",
    "import geopandas as gpd\n",
    "import numpy as np\n",
    "import pandas as pd\n",
    "from shapely.geometry import Polygon"
   ]
  },
  {
   "cell_type": "markdown",
   "id": "c3bf53bb",
   "metadata": {},
   "source": [
    "## Download training data"
   ]
  },
  {
   "cell_type": "code",
   "execution_count": null,
   "id": "698c6987",
   "metadata": {},
   "outputs": [],
   "source": [
    "%%bash\n",
    "\n",
    "NASA_FIRE_ID=\"10wbXaFTG8RyolfGzvI8SFQ1XzHi4tTQr\"\n",
    "TRAIN_ID=\"11_Wjbxsdrgt-DFGJELumk51elHOLkgpQ\"\n",
    "\n",
    "mkdir -p data\n",
    "\n",
    "gdown --id $NASA_FIRE_ID -O \"data/NASA.zip\"\n",
    "unzip \"data/NASA.zip\" -d data\n",
    "\n",
    "gdown --id $TRAIN_ID -O data/train.csv"
   ]
  },
  {
   "cell_type": "markdown",
   "id": "be96b966",
   "metadata": {},
   "source": [
    "## Prepare training data"
   ]
  },
  {
   "cell_type": "markdown",
   "id": "038e2d4a",
   "metadata": {},
   "source": [
    "### NASA satellites data"
   ]
  },
  {
   "cell_type": "code",
   "execution_count": null,
   "id": "acd36cbd-c7aa-4449-9377-7e78bb6e9429",
   "metadata": {},
   "outputs": [],
   "source": [
    "nasa_fire_path = Path(\"data\")\n",
    "geo_files = nasa_fire_path.rglob(\"*.shp\")\n",
    "\n",
    "nasa_fire_data = None\n",
    "for filepath in geo_files:\n",
    "    if nasa_fire_data is None:\n",
    "        nasa_fire_data = gpd.read_file(filepath)\n",
    "    else:\n",
    "        nasa_fire_data = pd.concat([nasa_fire_data, gpd.read_file(filepath)], ignore_index=True)"
   ]
  },
  {
   "cell_type": "code",
   "execution_count": null,
   "id": "ca1509a0-20cd-48c6-a381-51961b6eaa45",
   "metadata": {},
   "outputs": [],
   "source": [
    "print(nasa_fire_data.shape)"
   ]
  },
  {
   "cell_type": "code",
   "execution_count": null,
   "id": "93c39c18-4087-441c-919b-d72c2997a8fe",
   "metadata": {},
   "outputs": [],
   "source": [
    "nasa_fire_data[\"ACQ_DATE\"] = pd.to_datetime(nasa_fire_data[\"ACQ_DATE\"], format=\"%Y-%m-%d\")\n",
    "nasa_fire_data.sort_values(\"ACQ_TIME\", inplace=True)"
   ]
  },
  {
   "cell_type": "code",
   "execution_count": null,
   "id": "841a06ff-0418-4dcc-983f-3f1c49100585",
   "metadata": {},
   "outputs": [],
   "source": [
    "nasa_fire_data.drop_duplicates(\n",
    "    [\"LATITUDE\", \"LONGITUDE\", \"ACQ_DATE\", \"INSTRUMENT\"],\n",
    "    keep=\"last\",\n",
    "    inplace=True,\n",
    ")\n",
    "print(nasa_fire_data.shape)"
   ]
  },
  {
   "cell_type": "code",
   "execution_count": null,
   "id": "15f5c348-a857-49ce-a0f5-01f1ea998f70",
   "metadata": {},
   "outputs": [],
   "source": [
    "nasa_fire_data[\"id\"] = np.arange(nasa_fire_data.shape[0])\n",
    "nasa_fire_data[\"train_date\"] = nasa_fire_data[\"ACQ_DATE\"] + timedelta(days=1)\n",
    "nasa_fire_data[\"Month\"] = nasa_fire_data[\"ACQ_DATE\"].dt.month"
   ]
  },
  {
   "cell_type": "code",
   "execution_count": null,
   "id": "f44c0730-e96f-4dcb-a757-3069f6063a5e",
   "metadata": {},
   "outputs": [],
   "source": [
    "nasa_fire_data.head()"
   ]
  },
  {
   "cell_type": "markdown",
   "id": "41508b61",
   "metadata": {},
   "source": [
    "### Russian MCHS data"
   ]
  },
  {
   "cell_type": "code",
   "execution_count": null,
   "id": "07b12ba6-fc34-46e4-bd61-405548266fe4",
   "metadata": {},
   "outputs": [],
   "source": [
    "train_data = pd.read_csv(\"data/train.csv\")"
   ]
  },
  {
   "cell_type": "code",
   "execution_count": null,
   "id": "992c36a2-549f-47c2-9bf8-f2c43c64e412",
   "metadata": {},
   "outputs": [],
   "source": [
    "train_data[\"id\"] = np.arange(train_data.shape[0])"
   ]
  },
  {
   "cell_type": "code",
   "execution_count": null,
   "id": "9f9783d5-b004-4979-b13d-a217ee7a2c9c",
   "metadata": {},
   "outputs": [],
   "source": [
    "train_data[\"dt\"] = pd.to_datetime(train_data[\"dt\"], format=\"%Y-%m-%d\")"
   ]
  },
  {
   "cell_type": "code",
   "execution_count": null,
   "id": "294f9e58-13ce-450a-821e-6e203d80983a",
   "metadata": {},
   "outputs": [],
   "source": [
    "train_data[\"polygon\"] = train_data.apply(\n",
    "    lambda x: Polygon(\n",
    "        np.column_stack((\n",
    "            np.array([x[\"lon_min\"], x[\"lon_min\"], x[\"lon_max\"], x[\"lon_max\"]]),\n",
    "            np.array([x[\"lat_min\"], x[\"lat_max\"], x[\"lat_min\"], x[\"lat_max\"]])\n",
    "        ))\n",
    "    ), \n",
    "    axis=1\n",
    ")"
   ]
  },
  {
   "cell_type": "code",
   "execution_count": null,
   "id": "59407517",
   "metadata": {},
   "outputs": [],
   "source": [
    "train_data.head()"
   ]
  },
  {
   "cell_type": "markdown",
   "id": "80b9a625",
   "metadata": {},
   "source": [
    "### Merge data"
   ]
  },
  {
   "cell_type": "code",
   "execution_count": null,
   "id": "95075101-66a8-46ed-b136-3c8632e10b9d",
   "metadata": {},
   "outputs": [],
   "source": [
    "nasa_ids = []\n",
    "for date, poly in zip(train_data[\"dt\"], train_data[\"polygon\"]):\n",
    "    for i, point in zip(\n",
    "            nasa_fire_data.loc[nasa_fire_data[\"train_date\"] == date, \"id\"], \n",
    "            nasa_fire_data.loc[nasa_fire_data[\"train_date\"] == date, \"geometry\"]\n",
    "    ):\n",
    "        if poly.contains(point):\n",
    "            nasa_ids.append(i)\n",
    "            break\n",
    "    else:\n",
    "        nasa_ids.append(-1)"
   ]
  },
  {
   "cell_type": "code",
   "execution_count": null,
   "id": "5800016f-15ba-4762-b060-e1916fba0a55",
   "metadata": {},
   "outputs": [],
   "source": [
    "train_data[\"nasa_id\"] = nasa_ids"
   ]
  },
  {
   "cell_type": "code",
   "execution_count": null,
   "id": "97064e02-d6ad-4c30-83e3-19da1f3a9d5e",
   "metadata": {},
   "outputs": [],
   "source": [
    "nasa_fire_cols = [\n",
    "    \"LATITUDE\", \"LONGITUDE\", \"BRIGHTNESS\", \"SCAN\", \"TRACK\",\n",
    "    \"ACQ_TIME\", \"SATELLITE\", \"CONFIDENCE\",\n",
    "    \"BRIGHT_T31\", \"FRP\", \"DAYNIGHT\", \"TYPE\", \"id\"\n",
    "]"
   ]
  },
  {
   "cell_type": "code",
   "execution_count": null,
   "id": "e41bf61c-b093-4ca2-ae34-6847b836ca4e",
   "metadata": {},
   "outputs": [],
   "source": [
    "train_cols = [\n",
    "    \"dt\", \"lon_min\", \"lat_min\", \"lon_max\", \"lat_max\", \"lon\", \"lat\",\n",
    "    \"grid_index\", \"type_id\", \"type_name\", \"is_land\", \"infire_day_1\",\n",
    "    \"infire_day_2\", \"infire_day_3\", \"infire_day_4\", \"infire_day_5\",\n",
    "    \"infire_day_6\", \"infire_day_7\", \"infire_day_8\",\n",
    "    \"nasa_id\"\n",
    "]"
   ]
  },
  {
   "cell_type": "code",
   "execution_count": null,
   "id": "ce212b10-7056-49ba-a93e-5d6d53246261",
   "metadata": {},
   "outputs": [],
   "source": [
    "df = pd.merge(\n",
    "    train_data[train_cols],\n",
    "    nasa_fire_data[nasa_fire_cols],\n",
    "    how=\"inner\",\n",
    "    left_on=\"nasa_id\",\n",
    "    right_on=\"id\",\n",
    ")"
   ]
  },
  {
   "cell_type": "markdown",
   "id": "e6d8be9f",
   "metadata": {},
   "source": [
    "### Save training data"
   ]
  },
  {
   "cell_type": "code",
   "execution_count": null,
   "id": "4dfebf21-64b2-4257-ad14-323495d44910",
   "metadata": {},
   "outputs": [],
   "source": [
    "df.to_csv(\"merged.csv\", index=None)"
   ]
  },
  {
   "cell_type": "code",
   "execution_count": null,
   "id": "1573bd77-3c9d-4570-91ce-e6a5f4f56537",
   "metadata": {},
   "outputs": [],
   "source": []
  }
 ],
 "metadata": {
  "kernelspec": {
   "display_name": "Python 3 (ipykernel)",
   "language": "python",
   "name": "python3"
  },
  "language_info": {
   "codemirror_mode": {
    "name": "ipython",
    "version": 3
   },
   "file_extension": ".py",
   "mimetype": "text/x-python",
   "name": "python",
   "nbconvert_exporter": "python",
   "pygments_lexer": "ipython3",
   "version": "3.8.12"
  }
 },
 "nbformat": 4,
 "nbformat_minor": 5
}
