{
 "cells": [
  {
   "cell_type": "markdown",
   "id": "fa23d219",
   "metadata": {},
   "source": [
    "## Install libraries"
   ]
  },
  {
   "cell_type": "code",
   "execution_count": 1,
   "id": "250c1834",
   "metadata": {},
   "outputs": [
    {
     "name": "stdout",
     "output_type": "stream",
     "text": [
      "Note: you may need to restart the kernel to use updated packages.\n"
     ]
    }
   ],
   "source": [
    "%pip install -q gdown"
   ]
  },
  {
   "cell_type": "markdown",
   "id": "ae96818c",
   "metadata": {},
   "source": [
    "Also, install libraries listed in `requirements.txt` in the app root folder."
   ]
  },
  {
   "cell_type": "markdown",
   "id": "b5684217",
   "metadata": {},
   "source": [
    "## Import libraries"
   ]
  },
  {
   "cell_type": "code",
   "execution_count": 1,
   "id": "852b5699-8154-43a1-acd3-3d022d9fe77e",
   "metadata": {},
   "outputs": [
    {
     "name": "stderr",
     "output_type": "stream",
     "text": [
      "/home/imd/miniconda3/envs/wildfires/lib/python3.8/site-packages/geopandas/_compat.py:111: UserWarning: The Shapely GEOS version (3.9.1-CAPI-1.14.2) is incompatible with the GEOS version PyGEOS was compiled with (3.10.2-CAPI-1.16.0). Conversions between both will be slow.\n",
      "  warnings.warn(\n"
     ]
    }
   ],
   "source": [
    "from datetime import timedelta\n",
    "from pathlib import Path\n",
    "\n",
    "import geopandas as gpd\n",
    "import numpy as np\n",
    "import pandas as pd\n",
    "from shapely.geometry import box"
   ]
  },
  {
   "cell_type": "markdown",
   "id": "c3bf53bb",
   "metadata": {},
   "source": [
    "## Download training data"
   ]
  },
  {
   "cell_type": "markdown",
   "id": "fe9dc9c7-0cf1-4ebb-9cb4-0c1f780f4f98",
   "metadata": {
    "tags": []
   },
   "source": [
    "%%bash\n",
    "\n",
    "NASA_FIRE_ID=\"10wbXaFTG8RyolfGzvI8SFQ1XzHi4tTQr\"\n",
    "TRAIN_ID=\"11_Wjbxsdrgt-DFGJELumk51elHOLkgpQ\"\n",
    "\n",
    "mkdir -p data\n",
    "\n",
    "gdown --id $NASA_FIRE_ID -O \"data/NASA.zip\"\n",
    "unzip \"data/NASA.zip\" -d data\n",
    "\n",
    "gdown --id $TRAIN_ID -O data/train.csv"
   ]
  },
  {
   "cell_type": "markdown",
   "id": "be96b966",
   "metadata": {},
   "source": [
    "## Prepare training data"
   ]
  },
  {
   "cell_type": "markdown",
   "id": "038e2d4a",
   "metadata": {},
   "source": [
    "### NASA satellites data"
   ]
  },
  {
   "cell_type": "code",
   "execution_count": 2,
   "id": "acd36cbd-c7aa-4449-9377-7e78bb6e9429",
   "metadata": {},
   "outputs": [],
   "source": [
    "nasa_fire_path = Path(\"data\")\n",
    "geo_files = nasa_fire_path.rglob(\"*.shp\")\n",
    "\n",
    "nasa_fire_data = None\n",
    "for filepath in geo_files:\n",
    "    if nasa_fire_data is None:\n",
    "        nasa_fire_data = gpd.read_file(filepath)\n",
    "    else:\n",
    "        nasa_fire_data = pd.concat([nasa_fire_data, gpd.read_file(filepath)], ignore_index=True)"
   ]
  },
  {
   "cell_type": "code",
   "execution_count": 3,
   "id": "ca1509a0-20cd-48c6-a381-51961b6eaa45",
   "metadata": {},
   "outputs": [
    {
     "name": "stdout",
     "output_type": "stream",
     "text": [
      "(379219, 16)\n"
     ]
    }
   ],
   "source": [
    "print(nasa_fire_data.shape)"
   ]
  },
  {
   "cell_type": "code",
   "execution_count": 4,
   "id": "93c39c18-4087-441c-919b-d72c2997a8fe",
   "metadata": {},
   "outputs": [],
   "source": [
    "nasa_fire_data[\"ACQ_DATE\"] = pd.to_datetime(nasa_fire_data[\"ACQ_DATE\"], format=\"%Y-%m-%d\")\n",
    "nasa_fire_data.sort_values(\"ACQ_TIME\", inplace=True)"
   ]
  },
  {
   "cell_type": "code",
   "execution_count": 5,
   "id": "841a06ff-0418-4dcc-983f-3f1c49100585",
   "metadata": {},
   "outputs": [
    {
     "name": "stdout",
     "output_type": "stream",
     "text": [
      "(379213, 16)\n"
     ]
    }
   ],
   "source": [
    "nasa_fire_data.drop_duplicates(\n",
    "    [\"LATITUDE\", \"LONGITUDE\", \"ACQ_DATE\", \"INSTRUMENT\"],\n",
    "    keep=\"last\",\n",
    "    inplace=True,\n",
    ")\n",
    "print(nasa_fire_data.shape)"
   ]
  },
  {
   "cell_type": "code",
   "execution_count": 6,
   "id": "15f5c348-a857-49ce-a0f5-01f1ea998f70",
   "metadata": {},
   "outputs": [],
   "source": [
    "nasa_fire_data[\"id\"] = np.arange(nasa_fire_data.shape[0])\n",
    "nasa_fire_data[\"train_date\"] = nasa_fire_data[\"ACQ_DATE\"] + timedelta(days=1)\n",
    "nasa_fire_data[\"Month\"] = nasa_fire_data[\"ACQ_DATE\"].dt.month"
   ]
  },
  {
   "cell_type": "code",
   "execution_count": 7,
   "id": "f44c0730-e96f-4dcb-a757-3069f6063a5e",
   "metadata": {},
   "outputs": [
    {
     "name": "stdout",
     "output_type": "stream",
     "text": [
      "<class 'geopandas.geodataframe.GeoDataFrame'>\n",
      "Int64Index: 379213 entries, 352233 to 104285\n",
      "Data columns (total 19 columns):\n",
      " #   Column      Non-Null Count   Dtype         \n",
      "---  ------      --------------   -----         \n",
      " 0   LATITUDE    379213 non-null  float64       \n",
      " 1   LONGITUDE   379213 non-null  float64       \n",
      " 2   BRIGHTNESS  379213 non-null  float64       \n",
      " 3   SCAN        379213 non-null  float64       \n",
      " 4   TRACK       379213 non-null  float64       \n",
      " 5   ACQ_DATE    379213 non-null  datetime64[ns]\n",
      " 6   ACQ_TIME    379213 non-null  object        \n",
      " 7   SATELLITE   379213 non-null  object        \n",
      " 8   INSTRUMENT  379213 non-null  object        \n",
      " 9   CONFIDENCE  379213 non-null  int64         \n",
      " 10  VERSION     379213 non-null  object        \n",
      " 11  BRIGHT_T31  379213 non-null  float64       \n",
      " 12  FRP         379213 non-null  float64       \n",
      " 13  DAYNIGHT    379213 non-null  object        \n",
      " 14  TYPE        379213 non-null  int64         \n",
      " 15  geometry    379213 non-null  geometry      \n",
      " 16  id          379213 non-null  int64         \n",
      " 17  train_date  379213 non-null  datetime64[ns]\n",
      " 18  Month       379213 non-null  int64         \n",
      "dtypes: datetime64[ns](2), float64(7), geometry(1), int64(4), object(5)\n",
      "memory usage: 57.9+ MB\n"
     ]
    }
   ],
   "source": [
    "nasa_fire_data.info()"
   ]
  },
  {
   "cell_type": "markdown",
   "id": "41508b61",
   "metadata": {},
   "source": [
    "### Russian MCHS data"
   ]
  },
  {
   "cell_type": "code",
   "execution_count": 8,
   "id": "07b12ba6-fc34-46e4-bd61-405548266fe4",
   "metadata": {},
   "outputs": [],
   "source": [
    "train_data = pd.read_csv(\"data/train.csv\")"
   ]
  },
  {
   "cell_type": "code",
   "execution_count": 9,
   "id": "71616210-e588-41b1-bfdc-bfa4425f185a",
   "metadata": {},
   "outputs": [
    {
     "data": {
      "text/html": [
       "<div>\n",
       "<style scoped>\n",
       "    .dataframe tbody tr th:only-of-type {\n",
       "        vertical-align: middle;\n",
       "    }\n",
       "\n",
       "    .dataframe tbody tr th {\n",
       "        vertical-align: top;\n",
       "    }\n",
       "\n",
       "    .dataframe thead th {\n",
       "        text-align: right;\n",
       "    }\n",
       "</style>\n",
       "<table border=\"1\" class=\"dataframe\">\n",
       "  <thead>\n",
       "    <tr style=\"text-align: right;\">\n",
       "      <th></th>\n",
       "      <th>dt</th>\n",
       "      <th>lon_min</th>\n",
       "      <th>lat_min</th>\n",
       "      <th>lon_max</th>\n",
       "      <th>lat_max</th>\n",
       "      <th>lon</th>\n",
       "      <th>lat</th>\n",
       "      <th>grid_index</th>\n",
       "      <th>type_id</th>\n",
       "      <th>type_name</th>\n",
       "      <th>is_land</th>\n",
       "      <th>infire_day_1</th>\n",
       "      <th>infire_day_2</th>\n",
       "      <th>infire_day_3</th>\n",
       "      <th>infire_day_4</th>\n",
       "      <th>infire_day_5</th>\n",
       "      <th>infire_day_6</th>\n",
       "      <th>infire_day_7</th>\n",
       "      <th>infire_day_8</th>\n",
       "    </tr>\n",
       "  </thead>\n",
       "  <tbody>\n",
       "    <tr>\n",
       "      <th>0</th>\n",
       "      <td>2020-05-04</td>\n",
       "      <td>47.6</td>\n",
       "      <td>41.0</td>\n",
       "      <td>47.8</td>\n",
       "      <td>41.2</td>\n",
       "      <td>NaN</td>\n",
       "      <td>NaN</td>\n",
       "      <td>143</td>\n",
       "      <td>NaN</td>\n",
       "      <td>NaN</td>\n",
       "      <td>False</td>\n",
       "      <td>0</td>\n",
       "      <td>0</td>\n",
       "      <td>0</td>\n",
       "      <td>0</td>\n",
       "      <td>0</td>\n",
       "      <td>0</td>\n",
       "      <td>0</td>\n",
       "      <td>0</td>\n",
       "    </tr>\n",
       "    <tr>\n",
       "      <th>1</th>\n",
       "      <td>2021-02-24</td>\n",
       "      <td>47.2</td>\n",
       "      <td>41.2</td>\n",
       "      <td>47.4</td>\n",
       "      <td>41.4</td>\n",
       "      <td>NaN</td>\n",
       "      <td>NaN</td>\n",
       "      <td>891</td>\n",
       "      <td>NaN</td>\n",
       "      <td>NaN</td>\n",
       "      <td>False</td>\n",
       "      <td>0</td>\n",
       "      <td>0</td>\n",
       "      <td>0</td>\n",
       "      <td>0</td>\n",
       "      <td>0</td>\n",
       "      <td>0</td>\n",
       "      <td>0</td>\n",
       "      <td>0</td>\n",
       "    </tr>\n",
       "    <tr>\n",
       "      <th>2</th>\n",
       "      <td>2021-02-27</td>\n",
       "      <td>47.2</td>\n",
       "      <td>41.2</td>\n",
       "      <td>47.4</td>\n",
       "      <td>41.4</td>\n",
       "      <td>NaN</td>\n",
       "      <td>NaN</td>\n",
       "      <td>891</td>\n",
       "      <td>NaN</td>\n",
       "      <td>NaN</td>\n",
       "      <td>False</td>\n",
       "      <td>0</td>\n",
       "      <td>0</td>\n",
       "      <td>0</td>\n",
       "      <td>0</td>\n",
       "      <td>0</td>\n",
       "      <td>0</td>\n",
       "      <td>0</td>\n",
       "      <td>0</td>\n",
       "    </tr>\n",
       "    <tr>\n",
       "      <th>3</th>\n",
       "      <td>2021-04-01</td>\n",
       "      <td>47.4</td>\n",
       "      <td>41.2</td>\n",
       "      <td>47.6</td>\n",
       "      <td>41.4</td>\n",
       "      <td>NaN</td>\n",
       "      <td>NaN</td>\n",
       "      <td>892</td>\n",
       "      <td>NaN</td>\n",
       "      <td>NaN</td>\n",
       "      <td>True</td>\n",
       "      <td>0</td>\n",
       "      <td>0</td>\n",
       "      <td>0</td>\n",
       "      <td>0</td>\n",
       "      <td>0</td>\n",
       "      <td>0</td>\n",
       "      <td>0</td>\n",
       "      <td>0</td>\n",
       "    </tr>\n",
       "    <tr>\n",
       "      <th>4</th>\n",
       "      <td>2020-03-14</td>\n",
       "      <td>47.6</td>\n",
       "      <td>41.2</td>\n",
       "      <td>47.8</td>\n",
       "      <td>41.4</td>\n",
       "      <td>NaN</td>\n",
       "      <td>NaN</td>\n",
       "      <td>893</td>\n",
       "      <td>NaN</td>\n",
       "      <td>NaN</td>\n",
       "      <td>True</td>\n",
       "      <td>0</td>\n",
       "      <td>0</td>\n",
       "      <td>0</td>\n",
       "      <td>0</td>\n",
       "      <td>0</td>\n",
       "      <td>0</td>\n",
       "      <td>0</td>\n",
       "      <td>0</td>\n",
       "    </tr>\n",
       "  </tbody>\n",
       "</table>\n",
       "</div>"
      ],
      "text/plain": [
       "           dt  lon_min  lat_min  lon_max  lat_max  lon  lat  grid_index  \\\n",
       "0  2020-05-04     47.6     41.0     47.8     41.2  NaN  NaN         143   \n",
       "1  2021-02-24     47.2     41.2     47.4     41.4  NaN  NaN         891   \n",
       "2  2021-02-27     47.2     41.2     47.4     41.4  NaN  NaN         891   \n",
       "3  2021-04-01     47.4     41.2     47.6     41.4  NaN  NaN         892   \n",
       "4  2020-03-14     47.6     41.2     47.8     41.4  NaN  NaN         893   \n",
       "\n",
       "   type_id type_name  is_land  infire_day_1  infire_day_2  infire_day_3  \\\n",
       "0      NaN       NaN    False             0             0             0   \n",
       "1      NaN       NaN    False             0             0             0   \n",
       "2      NaN       NaN    False             0             0             0   \n",
       "3      NaN       NaN     True             0             0             0   \n",
       "4      NaN       NaN     True             0             0             0   \n",
       "\n",
       "   infire_day_4  infire_day_5  infire_day_6  infire_day_7  infire_day_8  \n",
       "0             0             0             0             0             0  \n",
       "1             0             0             0             0             0  \n",
       "2             0             0             0             0             0  \n",
       "3             0             0             0             0             0  \n",
       "4             0             0             0             0             0  "
      ]
     },
     "execution_count": 9,
     "metadata": {},
     "output_type": "execute_result"
    }
   ],
   "source": [
    "train_data.head()"
   ]
  },
  {
   "cell_type": "code",
   "execution_count": 10,
   "id": "992c36a2-549f-47c2-9bf8-f2c43c64e412",
   "metadata": {},
   "outputs": [],
   "source": [
    "train_data[\"id\"] = np.arange(train_data.shape[0])"
   ]
  },
  {
   "cell_type": "code",
   "execution_count": 11,
   "id": "9f9783d5-b004-4979-b13d-a217ee7a2c9c",
   "metadata": {},
   "outputs": [],
   "source": [
    "train_data[\"dt\"] = pd.to_datetime(train_data[\"dt\"], format=\"%Y-%m-%d\")"
   ]
  },
  {
   "cell_type": "code",
   "execution_count": 12,
   "id": "294f9e58-13ce-450a-821e-6e203d80983a",
   "metadata": {},
   "outputs": [],
   "source": [
    "train_data[\"geometry\"] = train_data.apply(\n",
    "    lambda x: box(*x[[\"lon_min\", \"lat_min\", \"lon_max\", \"lat_max\"]]),\n",
    "    axis=1\n",
    ")"
   ]
  },
  {
   "cell_type": "code",
   "execution_count": 13,
   "id": "b833ec95-3047-4af9-93ec-c8b7b0c9f0b0",
   "metadata": {},
   "outputs": [],
   "source": [
    "train_data = gpd.GeoDataFrame(train_data, geometry=\"geometry\")"
   ]
  },
  {
   "cell_type": "code",
   "execution_count": 14,
   "id": "91239635-9314-4da7-bb4b-e8367e793dbe",
   "metadata": {},
   "outputs": [],
   "source": [
    "train_data.crs = \"epsg:4326\""
   ]
  },
  {
   "cell_type": "code",
   "execution_count": 15,
   "id": "7894480c-3a91-41f5-b08b-a41bde08f387",
   "metadata": {},
   "outputs": [],
   "source": [
    "train_data.to_crs(epsg=3310, inplace=True)\n",
    "nasa_fire_data.to_crs(epsg=3310, inplace=True)"
   ]
  },
  {
   "cell_type": "code",
   "execution_count": 17,
   "id": "e3c99603",
   "metadata": {},
   "outputs": [
    {
     "data": {
      "text/html": [
       "<div>\n",
       "<style scoped>\n",
       "    .dataframe tbody tr th:only-of-type {\n",
       "        vertical-align: middle;\n",
       "    }\n",
       "\n",
       "    .dataframe tbody tr th {\n",
       "        vertical-align: top;\n",
       "    }\n",
       "\n",
       "    .dataframe thead th {\n",
       "        text-align: right;\n",
       "    }\n",
       "</style>\n",
       "<table border=\"1\" class=\"dataframe\">\n",
       "  <thead>\n",
       "    <tr style=\"text-align: right;\">\n",
       "      <th></th>\n",
       "      <th>LATITUDE</th>\n",
       "      <th>LONGITUDE</th>\n",
       "      <th>BRIGHTNESS</th>\n",
       "      <th>SCAN</th>\n",
       "      <th>TRACK</th>\n",
       "      <th>ACQ_DATE</th>\n",
       "      <th>ACQ_TIME</th>\n",
       "      <th>SATELLITE</th>\n",
       "      <th>INSTRUMENT</th>\n",
       "      <th>CONFIDENCE</th>\n",
       "      <th>VERSION</th>\n",
       "      <th>BRIGHT_T31</th>\n",
       "      <th>FRP</th>\n",
       "      <th>DAYNIGHT</th>\n",
       "      <th>TYPE</th>\n",
       "      <th>geometry</th>\n",
       "      <th>id</th>\n",
       "      <th>train_date</th>\n",
       "      <th>Month</th>\n",
       "    </tr>\n",
       "  </thead>\n",
       "  <tbody>\n",
       "    <tr>\n",
       "      <th>352233</th>\n",
       "      <td>46.6222</td>\n",
       "      <td>39.0148</td>\n",
       "      <td>302.4</td>\n",
       "      <td>1.6</td>\n",
       "      <td>1.2</td>\n",
       "      <td>2021-04-03</td>\n",
       "      <td>0000</td>\n",
       "      <td>Aqua</td>\n",
       "      <td>MODIS</td>\n",
       "      <td>49</td>\n",
       "      <td>6.03</td>\n",
       "      <td>274.1</td>\n",
       "      <td>19.2</td>\n",
       "      <td>N</td>\n",
       "      <td>0</td>\n",
       "      <td>POINT (7318589.118 9094526.753)</td>\n",
       "      <td>0</td>\n",
       "      <td>2021-04-04</td>\n",
       "      <td>4</td>\n",
       "    </tr>\n",
       "    <tr>\n",
       "      <th>259790</th>\n",
       "      <td>48.9202</td>\n",
       "      <td>39.8694</td>\n",
       "      <td>302.6</td>\n",
       "      <td>1.5</td>\n",
       "      <td>1.2</td>\n",
       "      <td>2020-08-06</td>\n",
       "      <td>0000</td>\n",
       "      <td>Aqua</td>\n",
       "      <td>MODIS</td>\n",
       "      <td>50</td>\n",
       "      <td>6.03</td>\n",
       "      <td>289.3</td>\n",
       "      <td>10.7</td>\n",
       "      <td>N</td>\n",
       "      <td>0</td>\n",
       "      <td>POINT (7061961.880 9131558.334)</td>\n",
       "      <td>1</td>\n",
       "      <td>2020-08-07</td>\n",
       "      <td>8</td>\n",
       "    </tr>\n",
       "    <tr>\n",
       "      <th>259789</th>\n",
       "      <td>48.9161</td>\n",
       "      <td>39.8892</td>\n",
       "      <td>334.8</td>\n",
       "      <td>1.5</td>\n",
       "      <td>1.2</td>\n",
       "      <td>2020-08-06</td>\n",
       "      <td>0000</td>\n",
       "      <td>Aqua</td>\n",
       "      <td>MODIS</td>\n",
       "      <td>100</td>\n",
       "      <td>6.03</td>\n",
       "      <td>290.2</td>\n",
       "      <td>66.8</td>\n",
       "      <td>N</td>\n",
       "      <td>0</td>\n",
       "      <td>POINT (7062233.376 9133084.572)</td>\n",
       "      <td>2</td>\n",
       "      <td>2020-08-07</td>\n",
       "      <td>8</td>\n",
       "    </tr>\n",
       "    <tr>\n",
       "      <th>352235</th>\n",
       "      <td>45.9646</td>\n",
       "      <td>48.1378</td>\n",
       "      <td>319.0</td>\n",
       "      <td>4.8</td>\n",
       "      <td>2.0</td>\n",
       "      <td>2021-04-03</td>\n",
       "      <td>0000</td>\n",
       "      <td>Aqua</td>\n",
       "      <td>MODIS</td>\n",
       "      <td>98</td>\n",
       "      <td>6.03</td>\n",
       "      <td>272.8</td>\n",
       "      <td>215.0</td>\n",
       "      <td>N</td>\n",
       "      <td>0</td>\n",
       "      <td>POINT (7280335.931 9808589.347)</td>\n",
       "      <td>3</td>\n",
       "      <td>2021-04-04</td>\n",
       "      <td>4</td>\n",
       "    </tr>\n",
       "    <tr>\n",
       "      <th>352234</th>\n",
       "      <td>45.9677</td>\n",
       "      <td>48.1306</td>\n",
       "      <td>322.7</td>\n",
       "      <td>4.8</td>\n",
       "      <td>2.0</td>\n",
       "      <td>2021-04-03</td>\n",
       "      <td>0000</td>\n",
       "      <td>Aqua</td>\n",
       "      <td>MODIS</td>\n",
       "      <td>100</td>\n",
       "      <td>6.03</td>\n",
       "      <td>272.9</td>\n",
       "      <td>251.6</td>\n",
       "      <td>N</td>\n",
       "      <td>0</td>\n",
       "      <td>POINT (7280115.787 9807967.912)</td>\n",
       "      <td>4</td>\n",
       "      <td>2021-04-04</td>\n",
       "      <td>4</td>\n",
       "    </tr>\n",
       "    <tr>\n",
       "      <th>...</th>\n",
       "      <td>...</td>\n",
       "      <td>...</td>\n",
       "      <td>...</td>\n",
       "      <td>...</td>\n",
       "      <td>...</td>\n",
       "      <td>...</td>\n",
       "      <td>...</td>\n",
       "      <td>...</td>\n",
       "      <td>...</td>\n",
       "      <td>...</td>\n",
       "      <td>...</td>\n",
       "      <td>...</td>\n",
       "      <td>...</td>\n",
       "      <td>...</td>\n",
       "      <td>...</td>\n",
       "      <td>...</td>\n",
       "      <td>...</td>\n",
       "      <td>...</td>\n",
       "      <td>...</td>\n",
       "    </tr>\n",
       "    <tr>\n",
       "      <th>104237</th>\n",
       "      <td>63.7139</td>\n",
       "      <td>166.6503</td>\n",
       "      <td>312.7</td>\n",
       "      <td>1.3</td>\n",
       "      <td>1.1</td>\n",
       "      <td>2020-06-21</td>\n",
       "      <td>2359</td>\n",
       "      <td>Terra</td>\n",
       "      <td>MODIS</td>\n",
       "      <td>43</td>\n",
       "      <td>6.03</td>\n",
       "      <td>300.0</td>\n",
       "      <td>10.0</td>\n",
       "      <td>D</td>\n",
       "      <td>0</td>\n",
       "      <td>POINT (-3907416.854 4312467.453)</td>\n",
       "      <td>379208</td>\n",
       "      <td>2020-06-22</td>\n",
       "      <td>6</td>\n",
       "    </tr>\n",
       "    <tr>\n",
       "      <th>104238</th>\n",
       "      <td>63.4746</td>\n",
       "      <td>169.9347</td>\n",
       "      <td>336.0</td>\n",
       "      <td>1.1</td>\n",
       "      <td>1.1</td>\n",
       "      <td>2020-06-21</td>\n",
       "      <td>2359</td>\n",
       "      <td>Terra</td>\n",
       "      <td>MODIS</td>\n",
       "      <td>87</td>\n",
       "      <td>6.03</td>\n",
       "      <td>303.0</td>\n",
       "      <td>33.0</td>\n",
       "      <td>D</td>\n",
       "      <td>0</td>\n",
       "      <td>POINT (-3781613.780 4162971.632)</td>\n",
       "      <td>379209</td>\n",
       "      <td>2020-06-22</td>\n",
       "      <td>6</td>\n",
       "    </tr>\n",
       "    <tr>\n",
       "      <th>104239</th>\n",
       "      <td>63.4770</td>\n",
       "      <td>169.9134</td>\n",
       "      <td>364.2</td>\n",
       "      <td>1.1</td>\n",
       "      <td>1.1</td>\n",
       "      <td>2020-06-21</td>\n",
       "      <td>2359</td>\n",
       "      <td>Terra</td>\n",
       "      <td>MODIS</td>\n",
       "      <td>100</td>\n",
       "      <td>6.03</td>\n",
       "      <td>305.3</td>\n",
       "      <td>104.5</td>\n",
       "      <td>D</td>\n",
       "      <td>0</td>\n",
       "      <td>POINT (-3782394.257 4163987.740)</td>\n",
       "      <td>379210</td>\n",
       "      <td>2020-06-22</td>\n",
       "      <td>6</td>\n",
       "    </tr>\n",
       "    <tr>\n",
       "      <th>104241</th>\n",
       "      <td>63.7198</td>\n",
       "      <td>166.6596</td>\n",
       "      <td>315.3</td>\n",
       "      <td>1.3</td>\n",
       "      <td>1.1</td>\n",
       "      <td>2020-06-21</td>\n",
       "      <td>2359</td>\n",
       "      <td>Terra</td>\n",
       "      <td>MODIS</td>\n",
       "      <td>54</td>\n",
       "      <td>6.03</td>\n",
       "      <td>301.5</td>\n",
       "      <td>12.1</td>\n",
       "      <td>D</td>\n",
       "      <td>0</td>\n",
       "      <td>POINT (-3906639.346 4312478.506)</td>\n",
       "      <td>379211</td>\n",
       "      <td>2020-06-22</td>\n",
       "      <td>6</td>\n",
       "    </tr>\n",
       "    <tr>\n",
       "      <th>104285</th>\n",
       "      <td>62.4303</td>\n",
       "      <td>168.4987</td>\n",
       "      <td>342.3</td>\n",
       "      <td>1.2</td>\n",
       "      <td>1.1</td>\n",
       "      <td>2020-06-21</td>\n",
       "      <td>2359</td>\n",
       "      <td>Terra</td>\n",
       "      <td>MODIS</td>\n",
       "      <td>91</td>\n",
       "      <td>6.03</td>\n",
       "      <td>302.3</td>\n",
       "      <td>45.4</td>\n",
       "      <td>D</td>\n",
       "      <td>0</td>\n",
       "      <td>POINT (-3911740.350 4148645.929)</td>\n",
       "      <td>379212</td>\n",
       "      <td>2020-06-22</td>\n",
       "      <td>6</td>\n",
       "    </tr>\n",
       "  </tbody>\n",
       "</table>\n",
       "<p>379213 rows × 19 columns</p>\n",
       "</div>"
      ],
      "text/plain": [
       "        LATITUDE  LONGITUDE  BRIGHTNESS  SCAN  TRACK   ACQ_DATE ACQ_TIME  \\\n",
       "352233   46.6222    39.0148       302.4   1.6    1.2 2021-04-03     0000   \n",
       "259790   48.9202    39.8694       302.6   1.5    1.2 2020-08-06     0000   \n",
       "259789   48.9161    39.8892       334.8   1.5    1.2 2020-08-06     0000   \n",
       "352235   45.9646    48.1378       319.0   4.8    2.0 2021-04-03     0000   \n",
       "352234   45.9677    48.1306       322.7   4.8    2.0 2021-04-03     0000   \n",
       "...          ...        ...         ...   ...    ...        ...      ...   \n",
       "104237   63.7139   166.6503       312.7   1.3    1.1 2020-06-21     2359   \n",
       "104238   63.4746   169.9347       336.0   1.1    1.1 2020-06-21     2359   \n",
       "104239   63.4770   169.9134       364.2   1.1    1.1 2020-06-21     2359   \n",
       "104241   63.7198   166.6596       315.3   1.3    1.1 2020-06-21     2359   \n",
       "104285   62.4303   168.4987       342.3   1.2    1.1 2020-06-21     2359   \n",
       "\n",
       "       SATELLITE INSTRUMENT  CONFIDENCE VERSION  BRIGHT_T31    FRP DAYNIGHT  \\\n",
       "352233      Aqua      MODIS          49    6.03       274.1   19.2        N   \n",
       "259790      Aqua      MODIS          50    6.03       289.3   10.7        N   \n",
       "259789      Aqua      MODIS         100    6.03       290.2   66.8        N   \n",
       "352235      Aqua      MODIS          98    6.03       272.8  215.0        N   \n",
       "352234      Aqua      MODIS         100    6.03       272.9  251.6        N   \n",
       "...          ...        ...         ...     ...         ...    ...      ...   \n",
       "104237     Terra      MODIS          43    6.03       300.0   10.0        D   \n",
       "104238     Terra      MODIS          87    6.03       303.0   33.0        D   \n",
       "104239     Terra      MODIS         100    6.03       305.3  104.5        D   \n",
       "104241     Terra      MODIS          54    6.03       301.5   12.1        D   \n",
       "104285     Terra      MODIS          91    6.03       302.3   45.4        D   \n",
       "\n",
       "        TYPE                          geometry      id train_date  Month  \n",
       "352233     0   POINT (7318589.118 9094526.753)       0 2021-04-04      4  \n",
       "259790     0   POINT (7061961.880 9131558.334)       1 2020-08-07      8  \n",
       "259789     0   POINT (7062233.376 9133084.572)       2 2020-08-07      8  \n",
       "352235     0   POINT (7280335.931 9808589.347)       3 2021-04-04      4  \n",
       "352234     0   POINT (7280115.787 9807967.912)       4 2021-04-04      4  \n",
       "...      ...                               ...     ...        ...    ...  \n",
       "104237     0  POINT (-3907416.854 4312467.453)  379208 2020-06-22      6  \n",
       "104238     0  POINT (-3781613.780 4162971.632)  379209 2020-06-22      6  \n",
       "104239     0  POINT (-3782394.257 4163987.740)  379210 2020-06-22      6  \n",
       "104241     0  POINT (-3906639.346 4312478.506)  379211 2020-06-22      6  \n",
       "104285     0  POINT (-3911740.350 4148645.929)  379212 2020-06-22      6  \n",
       "\n",
       "[379213 rows x 19 columns]"
      ]
     },
     "execution_count": 17,
     "metadata": {},
     "output_type": "execute_result"
    }
   ],
   "source": [
    "nasa_fire_data"
   ]
  },
  {
   "cell_type": "code",
   "execution_count": 16,
   "id": "8880d451-0e11-4b1a-be75-9c908f3383aa",
   "metadata": {},
   "outputs": [],
   "source": [
    "intersection = {}\n",
    "for i, (el, date) in enumerate(zip(train_data[\"geometry\"], train_data[\"dt\"])):\n",
    "    res = nasa_fire_data[\"geometry\"].sindex.query(el)\n",
    "    date_idxs = np.where(nasa_fire_data[\"train_date\"].iloc[res] == date)[0]\n",
    "    date_res = res[date_idxs]\n",
    "    intersection[i] = date_res"
   ]
  },
  {
   "cell_type": "code",
   "execution_count": 18,
   "id": "dce5b1f2-0c47-431e-b376-73bba3bbd422",
   "metadata": {},
   "outputs": [],
   "source": [
    "fifteen_km_radius = {}\n",
    "for i, (el, date) in enumerate(zip(train_data[\"geometry\"], train_data[\"dt\"])):\n",
    "    el = el.buffer(15000.0)\n",
    "    res = nasa_fire_data[\"geometry\"].sindex.query(el)\n",
    "    date_idxs = np.where(nasa_fire_data[\"train_date\"].iloc[res] == date)[0]\n",
    "    date_res = res[date_idxs]\n",
    "    fifteen_km_radius[i] = date_res"
   ]
  },
  {
   "cell_type": "code",
   "execution_count": 19,
   "id": "1232d74a-af9f-4e26-b302-8378bcfb39ef",
   "metadata": {},
   "outputs": [],
   "source": [
    "ten_km_radius = {}\n",
    "for i, (el, date) in enumerate(zip(train_data[\"geometry\"], train_data[\"dt\"])):\n",
    "    el = el.buffer(10000.0)\n",
    "    res = nasa_fire_data[\"geometry\"].sindex.query(el)\n",
    "    date_idxs = np.where(nasa_fire_data[\"train_date\"].iloc[res] == date)[0]\n",
    "    date_res = res[date_idxs]\n",
    "    ten_km_radius[i] = date_res"
   ]
  },
  {
   "cell_type": "code",
   "execution_count": 20,
   "id": "9c07291a-940b-43ce-ae92-ff1826db3c0a",
   "metadata": {},
   "outputs": [],
   "source": [
    "five_km_radius = {}\n",
    "for i, (el, date) in enumerate(zip(train_data[\"geometry\"], train_data[\"dt\"])):\n",
    "    rel = el.buffer(15000.0)\n",
    "    res = nasa_fire_data[\"geometry\"].sindex.query(el)\n",
    "    date_idxs = np.where(nasa_fire_data[\"train_date\"].iloc[res] == date)[0]\n",
    "    date_res = res[date_idxs]\n",
    "    five_km_radius[i] = date_res"
   ]
  },
  {
   "cell_type": "code",
   "execution_count": 21,
   "id": "070b2d4e-cbc2-49b5-aa5f-4768dbf7595d",
   "metadata": {},
   "outputs": [],
   "source": [
    "two_km_radius = {}\n",
    "for i, (el, date) in enumerate(zip(train_data[\"geometry\"], train_data[\"dt\"])):\n",
    "    el = el.buffer(2000.0)\n",
    "    res = nasa_fire_data[\"geometry\"].sindex.query(el)\n",
    "    date_idxs = np.where(nasa_fire_data[\"train_date\"].iloc[res] == date)[0]\n",
    "    date_res = res[date_idxs]\n",
    "    two_km_radius[i] = date_res"
   ]
  },
  {
   "cell_type": "code",
   "execution_count": 38,
   "id": "e2cadca4-5294-4f7d-823f-1ae652f9ae53",
   "metadata": {},
   "outputs": [],
   "source": [
    "closest_radius = {}\n",
    "closest_radius_index = {}\n",
    "for i, (el, date) in enumerate(zip(train_data[\"geometry\"], train_data[\"dt\"])):\n",
    "    res = nasa_fire_data[nasa_fire_data[\"train_date\"] == date][\"geometry\"].sindex.nearest(el, return_distance=True)\n",
    "    if res[0].shape[-1] > 0:\n",
    "        closest_radius[i] = res[-1][0]\n",
    "        closest_radius_index[i] = res[0][-1]\n",
    "    else:\n",
    "        closest_radius[i] = None\n",
    "        closest_radius_index[i] = None"
   ]
  },
  {
   "cell_type": "code",
   "execution_count": 39,
   "id": "6f13c3f9-3b43-4915-83f8-46efc557d323",
   "metadata": {},
   "outputs": [],
   "source": [
    "closest_radius = pd.Series(closest_radius)\n"
   ]
  },
  {
   "cell_type": "code",
   "execution_count": 41,
   "id": "eb756ae9-5cb6-4ab0-81b7-6a09af2c06c1",
   "metadata": {},
   "outputs": [],
   "source": [
    "AGG_FEATURES = [\"BRIGHTNESS\", \"BRIGHT_T31\", \"FRP\", \"CONFIDENCE\"]"
   ]
  },
  {
   "cell_type": "code",
   "execution_count": 45,
   "id": "7b7c7245-e2c7-4ac1-9161-43f75265ecdf",
   "metadata": {
    "tags": []
   },
   "outputs": [],
   "source": [
    "closest_radius_values = []\n",
    "for k, v in closest_radius_index.items():\n",
    "    if v is not None:\n",
    "        closest_radius_values.append(nasa_fire_data[AGG_FEATURES].iloc[v[0]].to_dict())\n",
    "    else:\n",
    "        closest_radius_values.append({f: None for f in AGG_FEATURES})"
   ]
  },
  {
   "cell_type": "code",
   "execution_count": 48,
   "id": "90302332-3111-44f2-825f-b804e3d6f3dc",
   "metadata": {},
   "outputs": [],
   "source": [
    "closest_radius_values = pd.DataFrame(closest_radius_values)\n",
    "closest_radius_values.columns = [f\"closest.{col}\" for col in closest_radius_values.columns]\n",
    "closest_radius_values[\"closest.dist\"] = closest_radius"
   ]
  },
  {
   "cell_type": "code",
   "execution_count": 50,
   "id": "d351716f-5279-4997-b397-f47896df5b89",
   "metadata": {},
   "outputs": [
    {
     "name": "stderr",
     "output_type": "stream",
     "text": [
      "/tmp/ipykernel_13284/414898350.py:1: DtypeWarning: Columns (9) have mixed types. Specify dtype option on import or set low_memory=False.\n",
      "  train_data = pd.read_csv(\"merged.csv\")\n"
     ]
    }
   ],
   "source": [
    "train_data = pd.read_csv(\"merged.csv\")"
   ]
  },
  {
   "cell_type": "code",
   "execution_count": 52,
   "id": "159ac3e4-8e49-4b0d-8cfb-f30025f099b0",
   "metadata": {},
   "outputs": [],
   "source": [
    "train_data = pd.concat([train_data, closest_radius_values], axis=1)"
   ]
  },
  {
   "cell_type": "code",
   "execution_count": 53,
   "id": "bcfda47e-d871-4f7a-bbaf-394debebfc7c",
   "metadata": {},
   "outputs": [],
   "source": [
    "train_data.to_csv(\"merged.csv\", index=False)"
   ]
  },
  {
   "cell_type": "code",
   "execution_count": null,
   "id": "47a5a108-71e5-4aca-9828-65f24dd7b021",
   "metadata": {},
   "outputs": [],
   "source": [
    "%%time\n",
    "intersection_distance = []\n",
    "for k, v in intersection.items():\n",
    "    if v.shape[0] > 0:\n",
    "        dist = nasa_fire_data[\"geometry\"].iloc[v].apply(lambda x: x.distance(train_data[\"geometry\"].iloc[k])).mean()\n",
    "    else:\n",
    "        dist = None\n",
    "    intersection_distance.append(dist)"
   ]
  },
  {
   "cell_type": "code",
   "execution_count": null,
   "id": "a3e95afc-f2ed-44c5-9724-9630bc6a8962",
   "metadata": {},
   "outputs": [],
   "source": [
    "%%time\n",
    "dist2 = []\n",
    "for k, v in two_km_radius.items():\n",
    "    if v.shape[0] > 0:\n",
    "        dist = nasa_fire_data[\"geometry\"].iloc[v].apply(lambda x: x.distance(train_data[\"geometry\"].iloc[k])).mean()\n",
    "    else:\n",
    "        dist = None\n",
    "    dist2.append(dist)"
   ]
  },
  {
   "cell_type": "code",
   "execution_count": null,
   "id": "1482abaa-fe28-40ee-830e-ace33d55ce0d",
   "metadata": {},
   "outputs": [],
   "source": [
    "%%time\n",
    "dist5 = []\n",
    "for k, v in five_km_radius.items():\n",
    "    if v.shape[0] > 0:\n",
    "        dist = nasa_fire_data[\"geometry\"].iloc[v].apply(lambda x: x.distance(train_data[\"geometry\"].iloc[k])).mean()\n",
    "    else:\n",
    "        dist = None\n",
    "    dist5.append(dist)"
   ]
  },
  {
   "cell_type": "code",
   "execution_count": null,
   "id": "b0388f86-f05c-4320-bc7e-69f708403238",
   "metadata": {},
   "outputs": [],
   "source": [
    "%%time\n",
    "dist10 = []\n",
    "for k, v in ten_km_radius.items():\n",
    "    if v.shape[0] > 0:\n",
    "        dist = nasa_fire_data[\"geometry\"].iloc[v].apply(lambda x: x.distance(train_data[\"geometry\"].iloc[k])).mean()\n",
    "    else:\n",
    "        dist = None\n",
    "    dist10.append(dist)"
   ]
  },
  {
   "cell_type": "code",
   "execution_count": null,
   "id": "37b5735a-484d-4d1d-95bd-de350fd797e3",
   "metadata": {},
   "outputs": [],
   "source": [
    "%%time\n",
    "dist15 = []\n",
    "for k, v in intersection.items():\n",
    "    if v.shape[0] > 0:\n",
    "        dist = nasa_fire_data[\"geometry\"].iloc[v].apply(lambda x: x.distance(train_data[\"geometry\"].iloc[k])).mean()\n",
    "    else:\n",
    "        dist = None\n",
    "    dist15.append(dist)"
   ]
  },
  {
   "cell_type": "code",
   "execution_count": null,
   "id": "6d3d5bf7-1d93-4d85-9a80-c38386ae41d6",
   "metadata": {},
   "outputs": [],
   "source": [
    "closest_dist = []\n",
    "for k, v in intersection.items():\n",
    "    if v.shape[0] > 0:\n",
    "        dist = nasa_fire_data[\"geometry\"].iloc[v].apply(lambda x: x.distance(train_data[\"geometry\"].iloc[k])).mean()\n",
    "    else:\n",
    "        dist = None\n",
    "    closest_dist.append(dist)"
   ]
  },
  {
   "cell_type": "code",
   "execution_count": 34,
   "id": "27154754-51a4-4d57-bea3-0ad6c224a995",
   "metadata": {},
   "outputs": [],
   "source": [
    "distance_data = pd.DataFrame({\n",
    "    \"0.dist\": intersection_distance, \n",
    "    \"2.dist\": dist2,\n",
    "    \"5.dist\": dist5,\n",
    "    \"10.dist\": dist10,\n",
    "    \"15.dist\": dist15\n",
    "})"
   ]
  },
  {
   "cell_type": "code",
   "execution_count": 39,
   "id": "8b302656-5af2-4858-baf8-1e36601b635e",
   "metadata": {},
   "outputs": [],
   "source": []
  },
  {
   "cell_type": "code",
   "execution_count": 22,
   "id": "46521230-7807-4132-a558-41cd556701c4",
   "metadata": {},
   "outputs": [],
   "source": []
  },
  {
   "cell_type": "code",
   "execution_count": 63,
   "id": "aaa64ec9-4639-4bf8-a98f-32b3822de62a",
   "metadata": {},
   "outputs": [],
   "source": [
    "data = []\n",
    "for key, indexes in intersection.items():\n",
    "    subdata = nasa_fire_data.iloc[indexes][AGG_FEATURES].agg([\"mean\", \"std\", \"max\", \"min\"])\n",
    "    data.append(pd.json_normalize({0: subdata.to_dict()}))"
   ]
  },
  {
   "cell_type": "code",
   "execution_count": 64,
   "id": "d9e7ac0d-961b-40bc-9065-4c838ab9e401",
   "metadata": {},
   "outputs": [],
   "source": [
    "data = pd.concat(data, axis=0)"
   ]
  },
  {
   "cell_type": "code",
   "execution_count": 48,
   "id": "9a1fcdaf-4c3c-428c-ae38-89cd5da4d1c2",
   "metadata": {},
   "outputs": [],
   "source": [
    "data2 = []\n",
    "for key, indexes in two_km_radius.items():\n",
    "    subdata = nasa_fire_data.iloc[indexes][AGG_FEATURES].agg([\"mean\", \"std\", \"max\", \"min\"])\n",
    "    data2.append(pd.json_normalize({2: subdata.to_dict()}))"
   ]
  },
  {
   "cell_type": "code",
   "execution_count": 49,
   "id": "79af2982-487b-4350-9f36-38a98e2392be",
   "metadata": {},
   "outputs": [],
   "source": [
    "data2 = pd.concat(data2, axis=0)"
   ]
  },
  {
   "cell_type": "code",
   "execution_count": 28,
   "id": "f854e55a-d2f1-4834-bda1-fefd2d452137",
   "metadata": {},
   "outputs": [],
   "source": [
    "data3 = []\n",
    "for key, indexes in five_km_radius.items():\n",
    "    subdata = nasa_fire_data.iloc[indexes][AGG_FEATURES].agg([\"mean\", \"std\", \"max\", \"min\"])\n",
    "    data3.append(pd.json_normalize({5: subdata.to_dict()}))"
   ]
  },
  {
   "cell_type": "code",
   "execution_count": 29,
   "id": "032a7041-2e42-4eb8-9096-e01425999067",
   "metadata": {},
   "outputs": [],
   "source": [
    "data3 = pd.concat(data3, axis=0)"
   ]
  },
  {
   "cell_type": "code",
   "execution_count": 30,
   "id": "03989987-6f57-4401-b73c-0238ad4a6add",
   "metadata": {},
   "outputs": [],
   "source": [
    "data4 = []\n",
    "for key, indexes in ten_km_radius.items():\n",
    "    subdata = nasa_fire_data.iloc[indexes][AGG_FEATURES].agg([\"mean\", \"std\", \"max\", \"min\"])\n",
    "    data4.append(pd.json_normalize({10: subdata.to_dict()}))\n",
    "data4 = pd.concat(data4, axis=0)"
   ]
  },
  {
   "cell_type": "code",
   "execution_count": 31,
   "id": "258daf4d-def7-46e4-8c43-5a93026d1cff",
   "metadata": {},
   "outputs": [],
   "source": [
    "data5 = []\n",
    "for key, indexes in fifteen_km_radius.items():\n",
    "    subdata = nasa_fire_data.iloc[indexes][AGG_FEATURES].agg([\"mean\", \"std\", \"max\", \"min\"])\n",
    "    data5.append(pd.json_normalize({15: subdata.to_dict()}))\n",
    "data5 = pd.concat(data5, axis=0)"
   ]
  },
  {
   "cell_type": "code",
   "execution_count": 65,
   "id": "9dafda9d-620e-4364-91f3-00ec08d9d8f5",
   "metadata": {},
   "outputs": [],
   "source": [
    "data.reset_index(inplace=True, drop=True)\n",
    "data2.reset_index(inplace=True, drop=True)\n",
    "data3.reset_index(inplace=True, drop=True)\n",
    "data4.reset_index(inplace=True, drop=True)\n",
    "data5.reset_index(inplace=True, drop=True)"
   ]
  },
  {
   "cell_type": "code",
   "execution_count": 51,
   "id": "c4d43b08-145e-4437-8239-d635e734a825",
   "metadata": {},
   "outputs": [],
   "source": [
    "for name, d in [(\"0.csv\", data), (\"2.csv\", data2), (\"5.csv\", data3), (\"10.csv\", data4), (\"15.csv\", data5)]:\n",
    "    d.to_csv(f\"data/{name}\", index=None)"
   ]
  },
  {
   "cell_type": "code",
   "execution_count": 52,
   "id": "81e2f7c9-122b-4383-9029-e7d61de64a93",
   "metadata": {},
   "outputs": [],
   "source": [
    "del intersection\n",
    "del two_km_radius\n",
    "del five_km_radius\n",
    "del ten_km_radius\n",
    "del fifteen_km_radius"
   ]
  },
  {
   "cell_type": "code",
   "execution_count": 66,
   "id": "9b9a71ff-aeb7-4909-8265-d302c112fcf5",
   "metadata": {},
   "outputs": [],
   "source": [
    "full_data = pd.concat([train_data, data, data2, data3, data4, data5, distance_data, closest_radius_values], axis=1, ignore_index=False)"
   ]
  },
  {
   "cell_type": "code",
   "execution_count": 68,
   "id": "4ae8ae89-4a70-4033-93c3-e64465085a6d",
   "metadata": {},
   "outputs": [
    {
     "data": {
      "text/plain": [
       "(488103, 101)"
      ]
     },
     "execution_count": 68,
     "metadata": {},
     "output_type": "execute_result"
    }
   ],
   "source": [
    "full_data.shape"
   ]
  },
  {
   "cell_type": "code",
   "execution_count": 60,
   "id": "ad6dd04f-21fd-464b-9663-5809f2c2a19e",
   "metadata": {},
   "outputs": [],
   "source": [
    "full_data.loc[~full_data[\"2.BRIGHT_T31.max\"].isnull(), [col for col in columns if col.startswith(\"2\") and col.endswith(\".std\")]] = 0\n",
    "full_data.loc[~full_data[\"5.BRIGHT_T31.max\"].isnull(), [col for col in columns if col.startswith(\"5\") and col.endswith(\".std\")]] = 0\n",
    "full_data.loc[~full_data[\"10.BRIGHT_T31.max\"].isnull(), [col for col in columns if col.startswith(\"10\") and col.endswith(\".std\")]] = 0\n",
    "full_data.loc[~full_data[\"15.BRIGHT_T31.max\"].isnull(), [col for col in columns if col.startswith(\"15\") and col.endswith(\".std\")]] = 0"
   ]
  },
  {
   "cell_type": "code",
   "execution_count": 61,
   "id": "6d82a5a1-bfff-4260-8ede-5b1dde2589e8",
   "metadata": {},
   "outputs": [
    {
     "data": {
      "text/html": [
       "<div>\n",
       "<style scoped>\n",
       "    .dataframe tbody tr th:only-of-type {\n",
       "        vertical-align: middle;\n",
       "    }\n",
       "\n",
       "    .dataframe tbody tr th {\n",
       "        vertical-align: top;\n",
       "    }\n",
       "\n",
       "    .dataframe thead th {\n",
       "        text-align: right;\n",
       "    }\n",
       "</style>\n",
       "<table border=\"1\" class=\"dataframe\">\n",
       "  <thead>\n",
       "    <tr style=\"text-align: right;\">\n",
       "      <th></th>\n",
       "      <th>dt</th>\n",
       "      <th>lon_min</th>\n",
       "      <th>lat_min</th>\n",
       "      <th>lon_max</th>\n",
       "      <th>lat_max</th>\n",
       "      <th>lon</th>\n",
       "      <th>lat</th>\n",
       "      <th>grid_index</th>\n",
       "      <th>type_id</th>\n",
       "      <th>type_name</th>\n",
       "      <th>...</th>\n",
       "      <th>15.BRIGHT_T31.max</th>\n",
       "      <th>15.BRIGHT_T31.min</th>\n",
       "      <th>15.FRP.mean</th>\n",
       "      <th>15.FRP.std</th>\n",
       "      <th>15.FRP.max</th>\n",
       "      <th>15.FRP.min</th>\n",
       "      <th>15.CONFIDENCE.mean</th>\n",
       "      <th>15.CONFIDENCE.std</th>\n",
       "      <th>15.CONFIDENCE.max</th>\n",
       "      <th>15.CONFIDENCE.min</th>\n",
       "    </tr>\n",
       "  </thead>\n",
       "  <tbody>\n",
       "  </tbody>\n",
       "</table>\n",
       "<p>0 rows × 101 columns</p>\n",
       "</div>"
      ],
      "text/plain": [
       "Empty GeoDataFrame\n",
       "Columns: [dt, lon_min, lat_min, lon_max, lat_max, lon, lat, grid_index, type_id, type_name, is_land, infire_day_1, infire_day_2, infire_day_3, infire_day_4, infire_day_5, infire_day_6, infire_day_7, infire_day_8, id, geometry, 0.BRIGHTNESS.mean, 0.BRIGHTNESS.std, 0.BRIGHTNESS.max, 0.BRIGHTNESS.min, 0.BRIGHT_T31.mean, 0.BRIGHT_T31.std, 0.BRIGHT_T31.max, 0.BRIGHT_T31.min, 0.FRP.mean, 0.FRP.std, 0.FRP.max, 0.FRP.min, 0.CONFIDENCE.mean, 0.CONFIDENCE.std, 0.CONFIDENCE.max, 0.CONFIDENCE.min, 2.BRIGHTNESS.mean, 2.BRIGHTNESS.std, 2.BRIGHTNESS.max, 2.BRIGHTNESS.min, 2.BRIGHT_T31.mean, 2.BRIGHT_T31.std, 2.BRIGHT_T31.max, 2.BRIGHT_T31.min, 2.FRP.mean, 2.FRP.std, 2.FRP.max, 2.FRP.min, 2.CONFIDENCE.mean, 2.CONFIDENCE.std, 2.CONFIDENCE.max, 2.CONFIDENCE.min, 5.BRIGHTNESS.mean, 5.BRIGHTNESS.std, 5.BRIGHTNESS.max, 5.BRIGHTNESS.min, 5.BRIGHT_T31.mean, 5.BRIGHT_T31.std, 5.BRIGHT_T31.max, 5.BRIGHT_T31.min, 5.FRP.mean, 5.FRP.std, 5.FRP.max, 5.FRP.min, 5.CONFIDENCE.mean, 5.CONFIDENCE.std, 5.CONFIDENCE.max, 5.CONFIDENCE.min, 10.BRIGHTNESS.mean, 10.BRIGHTNESS.std, 10.BRIGHTNESS.max, 10.BRIGHTNESS.min, 10.BRIGHT_T31.mean, 10.BRIGHT_T31.std, 10.BRIGHT_T31.max, 10.BRIGHT_T31.min, 10.FRP.mean, 10.FRP.std, 10.FRP.max, 10.FRP.min, 10.CONFIDENCE.mean, 10.CONFIDENCE.std, 10.CONFIDENCE.max, 10.CONFIDENCE.min, 15.BRIGHTNESS.mean, 15.BRIGHTNESS.std, 15.BRIGHTNESS.max, 15.BRIGHTNESS.min, 15.BRIGHT_T31.mean, 15.BRIGHT_T31.std, 15.BRIGHT_T31.max, 15.BRIGHT_T31.min, 15.FRP.mean, 15.FRP.std, 15.FRP.max, 15.FRP.min, 15.CONFIDENCE.mean, 15.CONFIDENCE.std, 15.CONFIDENCE.max, ...]\n",
       "Index: []\n",
       "\n",
       "[0 rows x 101 columns]"
      ]
     },
     "execution_count": 61,
     "metadata": {},
     "output_type": "execute_result"
    }
   ],
   "source": [
    "full_data.loc[~full_data[\"0.BRIGHT_T31.max\"].isnull()]"
   ]
  },
  {
   "cell_type": "code",
   "execution_count": 46,
   "id": "5b099775-a415-4deb-949e-6db70236a406",
   "metadata": {},
   "outputs": [],
   "source": []
  },
  {
   "cell_type": "markdown",
   "id": "e6d8be9f",
   "metadata": {},
   "source": [
    "### Save training data"
   ]
  },
  {
   "cell_type": "code",
   "execution_count": 70,
   "id": "4dfebf21-64b2-4257-ad14-323495d44910",
   "metadata": {},
   "outputs": [],
   "source": [
    "full_data.to_csv(\"merged.csv\", index=None)"
   ]
  },
  {
   "cell_type": "code",
   "execution_count": null,
   "id": "1573bd77-3c9d-4570-91ce-e6a5f4f56537",
   "metadata": {},
   "outputs": [],
   "source": []
  }
 ],
 "metadata": {
  "kernelspec": {
   "display_name": "Python 3 (ipykernel)",
   "language": "python",
   "name": "python3"
  },
  "language_info": {
   "codemirror_mode": {
    "name": "ipython",
    "version": 3
   },
   "file_extension": ".py",
   "mimetype": "text/x-python",
   "name": "python",
   "nbconvert_exporter": "python",
   "pygments_lexer": "ipython3",
   "version": "3.8.10"
  }
 },
 "nbformat": 4,
 "nbformat_minor": 5
}
